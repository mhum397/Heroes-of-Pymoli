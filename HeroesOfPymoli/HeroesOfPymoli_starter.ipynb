{
 "cells": [
  {
   "cell_type": "markdown",
   "metadata": {},
   "source": [
    "### Heroes Of Pymoli Data Analysis\n",
    "* Of the 1163 active players, the vast majority are male (84%). There also exists, a smaller, but notable proportion of female players (14%).\n",
    "\n",
    "* Our peak age demographic falls between 20-24 (44.8%) with secondary groups falling between 15-19 (18.60%) and 25-29 (13.4%).  \n",
    "-----"
   ]
  },
  {
   "cell_type": "markdown",
   "metadata": {},
   "source": [
    "### Note\n",
    "* Instructions have been included for each segment. You do not have to follow them exactly, but they are included to help you think through the steps."
   ]
  },
  {
   "cell_type": "code",
   "execution_count": 1,
   "metadata": {},
   "outputs": [],
   "source": [
    "# Dependencies and Setup\n",
    "import pandas as pd\n",
    "import numpy as np\n",
    "\n",
    "# File to Load (Remember to Change These)\n",
    "file_to_load = \"Resources/purchase_data.csv\"\n",
    "\n",
    "# Read Purchasing File and store into Pandas data frame\n",
    "purchase_data = pd.read_csv(file_to_load)\n"
   ]
  },
  {
   "cell_type": "markdown",
   "metadata": {},
   "source": [
    "## Player Count"
   ]
  },
  {
   "cell_type": "markdown",
   "metadata": {},
   "source": [
    "* Display the total number of players\n"
   ]
  },
  {
   "cell_type": "code",
   "execution_count": null,
   "metadata": {},
   "outputs": [],
   "source": [
    "total_players = len(purchase_data[\"SN\"].unique())\n",
    "total_players_df = pd.DataFrame({\"Total Players\": [total_players]})\n",
    "total_players_df"
   ]
  },
  {
   "cell_type": "markdown",
   "metadata": {},
   "source": [
    "## Purchasing Analysis (Total)"
   ]
  },
  {
   "cell_type": "markdown",
   "metadata": {},
   "source": [
    "* Run basic calculations to obtain number of unique items, average price, etc.\n",
    "\n",
    "\n",
    "* Create a summary data frame to hold the results\n",
    "\n",
    "\n",
    "* Optional: give the displayed data cleaner formatting\n",
    "\n",
    "\n",
    "* Display the summary data frame\n"
   ]
  },
  {
   "cell_type": "code",
   "execution_count": null,
   "metadata": {
    "scrolled": true
   },
   "outputs": [],
   "source": [
    "item_count = len(purchase_data[\"Item Name\"].unique())\n",
    "average_price = purchase_data[\"Price\"].mean()\n",
    "purchase_count = len(purchase_data.index)\n",
    "total_rev = purchase_data[\"Price\"].sum()\n",
    "summary_table_purchases = pd.DataFrame({\"Number of Unique Items\": [item_count],\n",
    "                              \"Average Price\": [average_price],\n",
    "                              \"Number of Purchases\": [purchase_count],\n",
    "                              \"Total Revenue\": [total_rev]})\n",
    "\n",
    "summary_table_purchases['Average Price'] = summary_table_purchases['Average Price'].apply('${:.2f}'.format)\n",
    "summary_table_purchases['Total Revenue'] = summary_table_purchases['Total Revenue'].apply('${:.2f}'.format)\n",
    "summary_table_purchases"
   ]
  },
  {
   "cell_type": "markdown",
   "metadata": {},
   "source": [
    "## Gender Demographics"
   ]
  },
  {
   "cell_type": "markdown",
   "metadata": {},
   "source": [
    "* Percentage and Count of Male Players\n",
    "\n",
    "\n",
    "* Percentage and Count of Female Players\n",
    "\n",
    "\n",
    "* Percentage and Count of Other / Non-Disclosed\n",
    "\n",
    "\n"
   ]
  },
  {
   "cell_type": "code",
   "execution_count": null,
   "metadata": {},
   "outputs": [],
   "source": [
    "purchase_data_trim = purchase_data.drop_duplicates(subset=\"SN\", keep=\"first\")\n",
    "gender_df = purchase_data_trim[\"Gender\"].value_counts().to_frame()\n",
    "gender_df['Percentage of Players'] = gender_df['Gender']/gender_df['Gender'].sum() * 100\n",
    "gender_df.columns = ['Total Count', 'Percentage of Players']\n",
    "gender_df['Percentage of Players'] = gender_df['Percentage of Players'].apply('{:.2f}%'.format)\n",
    "gender_df\n"
   ]
  },
  {
   "cell_type": "markdown",
   "metadata": {},
   "source": [
    "\n",
    "## Purchasing Analysis (Gender)"
   ]
  },
  {
   "cell_type": "markdown",
   "metadata": {},
   "source": [
    "* Run basic calculations to obtain purchase count, avg. purchase price, avg. purchase total per person etc. by gender\n",
    "\n",
    "\n",
    "\n",
    "\n",
    "* Create a summary data frame to hold the results\n",
    "\n",
    "\n",
    "* Optional: give the displayed data cleaner formatting\n",
    "\n",
    "\n",
    "* Display the summary data frame"
   ]
  },
  {
   "cell_type": "code",
   "execution_count": null,
   "metadata": {},
   "outputs": [],
   "source": [
    "gender_gather= purchase_data[[\"Gender\", \"Price\"]]\n",
    "gender_group = gender_gather.groupby([\"Gender\"])\n",
    "trim_gender_gather = purchase_data_trim[[\"Gender\",\"Price\"]]\n",
    "trim_gender_group = trim_gender_gather.groupby([\"Gender\"])\n",
    "gender_comparison = gender_group.count()\n",
    "gender_comparison[\"Average Purchase Price\"] = gender_group.mean()\n",
    "gender_comparison[\"Total Purchase Price\"] = gender_group.sum()\n",
    "gender_comparison[\"Avg Total Purchase Per Person\"] = gender_group.sum() / trim_gender_group.count()\n",
    "gender_comparison.rename(columns={'Price':'Purchase Count'}, inplace=True)\n",
    "gender_comparison['Average Purchase Price'] = gender_comparison['Average Purchase Price'].apply('${:.2f}'.format)\n",
    "gender_comparison['Total Purchase Price'] = gender_comparison['Total Purchase Price'].apply('${:.2f}'.format)\n",
    "gender_comparison['Avg Total Purchase Per Person'] = gender_comparison['Avg Total Purchase Per Person'].apply('${:.2f}'.format)\n",
    "gender_comparison\n"
   ]
  },
  {
   "cell_type": "markdown",
   "metadata": {},
   "source": [
    "## Age Demographics"
   ]
  },
  {
   "cell_type": "markdown",
   "metadata": {},
   "source": [
    "* Establish bins for ages\n",
    "\n",
    "\n",
    "* Categorize the existing players using the age bins. Hint: use pd.cut()\n",
    "\n",
    "\n",
    "* Calculate the numbers and percentages by age group\n",
    "\n",
    "\n",
    "* Create a summary data frame to hold the results\n",
    "\n",
    "\n",
    "* Optional: round the percentage column to two decimal points\n",
    "\n",
    "\n",
    "* Display Age Demographics Table\n"
   ]
  },
  {
   "cell_type": "code",
   "execution_count": null,
   "metadata": {},
   "outputs": [],
   "source": [
    "bins = [0, 9.9, 14, 19, 24, 29, 34, 39, 150]\n",
    "\n",
    "age_groups = [\"<10\", \"10-14\", \"15-19\", \"20-24\", \"25-29\", \"30-34\", \"35-39\", \"40+\"]\n",
    "\n",
    "purchase_data_trim[\"Age Group\"] = pd.cut(purchase_data[\"Age\"], bins, labels=age_groups)\n",
    "age_group_df = purchase_data_trim[\"Age Group\"].value_counts().to_frame()\n",
    "age_group_df['Percentage of Players']= age_group_df['Age Group']/age_group_df['Age Group'].sum() * 100\n",
    "age_group_df.rename(columns={'Age Group':'Total Count'}, inplace=True)\n",
    "age_group_df['Percentage of Players'] = age_group_df['Percentage of Players'].apply('{:.2f}%'.format)\n",
    "age_group_df.sort_index(inplace=True)\n",
    "age_group_df\n"
   ]
  },
  {
   "cell_type": "markdown",
   "metadata": {},
   "source": [
    "## Purchasing Analysis (Age)"
   ]
  },
  {
   "cell_type": "markdown",
   "metadata": {},
   "source": [
    "* Bin the purchase_data data frame by age\n",
    "\n",
    "\n",
    "* Run basic calculations to obtain purchase count, avg. purchase price, avg. purchase total per person etc. in the table below\n",
    "\n",
    "\n",
    "* Create a summary data frame to hold the results\n",
    "\n",
    "\n",
    "* Optional: give the displayed data cleaner formatting\n",
    "\n",
    "\n",
    "* Display the summary data frame"
   ]
  },
  {
   "cell_type": "code",
   "execution_count": null,
   "metadata": {},
   "outputs": [],
   "source": [
    "purchase_data[\"Age Group\"] = pd.cut(purchase_data[\"Age\"], bins, labels=age_groups)\n",
    "purchase_data_trim[\"Age Group\"] = pd.cut(purchase_data_trim[\"Age\"], bins, labels=age_groups)\n",
    "age_group = purchase_data.groupby(\"Age Group\")\n",
    "trim_age_group = purchase_data_trim.groupby(\"Age Group\")\n",
    "\n",
    "age_summary = purchase_data[\"Age Group\"].value_counts().to_frame()\n",
    "age_summary['Average Purchase Price'] = age_group[\"Price\"].mean()\n",
    "age_summary['Total Purchase Value'] = age_group[\"Price\"].sum()\n",
    "age_summary['Avg Total Purchase Per Person'] = age_group[\"Price\"].sum() / trim_age_group[\"Age Group\"].count()\n",
    "age_summary.rename(columns={'Age Group':'Purchase Count'}, inplace=True)\n",
    "age_summary['Average Purchase Price'] = age_summary['Average Purchase Price'].apply('${:.2f}'.format)\n",
    "age_summary['Total Purchase Value'] = age_summary['Total Purchase Value'].apply('${:.2f}'.format)\n",
    "age_summary['Avg Total Purchase Per Person'] = age_summary['Avg Total Purchase Per Person'].apply('${:.2f}'.format)\n",
    "age_summary.sort_index(inplace=True)\n",
    "age_summary"
   ]
  },
  {
   "cell_type": "markdown",
   "metadata": {},
   "source": [
    "## Top Spenders"
   ]
  },
  {
   "cell_type": "markdown",
   "metadata": {},
   "source": [
    "* Run basic calculations to obtain the results in the table below\n",
    "\n",
    "\n",
    "* Create a summary data frame to hold the results\n",
    "\n",
    "\n",
    "* Sort the total purchase value column in descending order\n",
    "\n",
    "\n",
    "* Optional: give the displayed data cleaner formatting\n",
    "\n",
    "\n",
    "* Display a preview of the summary data frame\n",
    "\n"
   ]
  },
  {
   "cell_type": "code",
   "execution_count": null,
   "metadata": {},
   "outputs": [],
   "source": [
    "spender_gather= purchase_data[[\"SN\", \"Price\"]]\n",
    "spender_group = spender_gather.groupby([\"SN\"])\n",
    "\n",
    "sn_group = spender_group.count()\n",
    "sn_group[\"Average Purchase Price\"] = spender_group.mean()\n",
    "sn_group[\"Total Purchase Value\"] = spender_group.sum()\n",
    "sn_group.rename(columns={'Price':'Purchase Count'}, inplace=True)\n",
    "sn_group.sort_values(by='Total Purchase Value', ascending=False, inplace=True)\n",
    "sn_group['Average Purchase Price'] = sn_group['Average Purchase Price'].apply('${:.2f}'.format)\n",
    "sn_group['Total Purchase Value'] = sn_group['Total Purchase Value'].apply('${:.2f}'.format)\n",
    "sn_group.head()\n"
   ]
  },
  {
   "cell_type": "markdown",
   "metadata": {},
   "source": [
    "## Most Popular Items"
   ]
  },
  {
   "cell_type": "markdown",
   "metadata": {},
   "source": [
    "* Retrieve the Item ID, Item Name, and Item Price columns\n",
    "\n",
    "\n",
    "* Group by Item ID and Item Name. Perform calculations to obtain purchase count, item price, and total purchase value\n",
    "\n",
    "\n",
    "* Create a summary data frame to hold the results\n",
    "\n",
    "\n",
    "* Sort the purchase count column in descending order\n",
    "\n",
    "\n",
    "* Optional: give the displayed data cleaner formatting\n",
    "\n",
    "\n",
    "* Display a preview of the summary data frame\n",
    "\n"
   ]
  },
  {
   "cell_type": "code",
   "execution_count": null,
   "metadata": {},
   "outputs": [],
   "source": [
    "purchase_price_trim = purchase_data.drop_duplicates(subset=\"Price\", keep=\"first\")\n",
    "item_gather = purchase_data[[\"Item ID\", \"Item Name\", \"Price\"]]\n",
    "item_group = item_gather.groupby([\"Item ID\", \"Item Name\"])\n",
    "\n",
    "#trim_item_gather = purchase_price_trim[[\"Item ID\", \"Item Name\", \"Price\"]]\n",
    "#trim_item_group = trim_item_gather.groupby([\"Item ID\", \"Item Name\"])\n",
    "#trim_item_group1 = trim_item_group.count()\n",
    "\n",
    "item_table = item_group.count()\n",
    "item_table[\"Item Price\"] = item_group.median()\n",
    "item_table[\"Total Purchase Value\"] = item_group.sum()\n",
    "item_table.rename(columns={'Price':'Purchase Count'}, inplace=True)\n",
    "item_table.sort_values(by='Purchase Count', ascending=False, inplace=True)\n",
    "item_table['Item Price'] = item_table['Item Price'].apply('${:.2f}'.format)\n",
    "item_table['Total Purchase Value'] = item_table['Total Purchase Value'].apply('${:.2f}'.format)\n",
    "item_table.head()"
   ]
  },
  {
   "cell_type": "markdown",
   "metadata": {},
   "source": [
    "## Most Profitable Items"
   ]
  },
  {
   "cell_type": "markdown",
   "metadata": {},
   "source": [
    "* Sort the above table by total purchase value in descending order\n",
    "\n",
    "\n",
    "* Optional: give the displayed data cleaner formatting\n",
    "\n",
    "\n",
    "* Display a preview of the data frame\n",
    "\n"
   ]
  },
  {
   "cell_type": "code",
   "execution_count": null,
   "metadata": {
    "scrolled": true
   },
   "outputs": [],
   "source": [
    "item_table1 = item_group.count()\n",
    "item_table1[\"Item Price\"] = item_group.median()\n",
    "item_table1[\"Total Purchase Value\"] = item_group.sum()\n",
    "item_table1.rename(columns={'Price':'Purchase Count'}, inplace=True)\n",
    "item_table1.sort_values(by='Total Purchase Value', ascending=False, inplace=True)\n",
    "item_table1['Item Price'] = item_table1['Item Price'].apply('${:.2f}'.format)\n",
    "item_table1['Total Purchase Value'] = item_table1['Total Purchase Value'].apply('${:.2f}'.format)\n",
    "item_table1.head()"
   ]
  },
  {
   "cell_type": "code",
   "execution_count": null,
   "metadata": {},
   "outputs": [],
   "source": []
  },
  {
   "cell_type": "code",
   "execution_count": null,
   "metadata": {},
   "outputs": [],
   "source": []
  }
 ],
 "metadata": {
  "anaconda-cloud": {},
  "kernel_info": {
   "name": "python3"
  },
  "kernelspec": {
   "display_name": "Python 3",
   "language": "python",
   "name": "python3"
  },
  "language_info": {
   "codemirror_mode": {
    "name": "ipython",
    "version": 3
   },
   "file_extension": ".py",
   "mimetype": "text/x-python",
   "name": "python",
   "nbconvert_exporter": "python",
   "pygments_lexer": "ipython3",
   "version": "3.6.6"
  },
  "nteract": {
   "version": "0.2.0"
  }
 },
 "nbformat": 4,
 "nbformat_minor": 2
}
